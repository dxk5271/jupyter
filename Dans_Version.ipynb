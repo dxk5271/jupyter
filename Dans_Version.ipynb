{
  "nbformat": 4,
  "nbformat_minor": 0,
  "metadata": {
    "colab": {
      "name": "Dans Version",
      "provenance": [],
      "collapsed_sections": [],
      "include_colab_link": true
    },
    "kernelspec": {
      "display_name": "Python 3",
      "language": "python",
      "name": "python3"
    },
    "language_info": {
      "codemirror_mode": {
        "name": "ipython",
        "version": 3
      },
      "file_extension": ".py",
      "mimetype": "text/x-python",
      "name": "python",
      "nbconvert_exporter": "python",
      "pygments_lexer": "ipython3",
      "version": "3.8.3"
    }
  },
  "cells": [
    {
      "cell_type": "markdown",
      "metadata": {
        "id": "view-in-github",
        "colab_type": "text"
      },
      "source": [
        "<a href=\"https://colab.research.google.com/github/dxk5271/jupyter/blob/master/Dans_Version.ipynb\" target=\"_parent\"><img src=\"https://colab.research.google.com/assets/colab-badge.svg\" alt=\"Open In Colab\"/></a>"
      ]
    },
    {
      "cell_type": "markdown",
      "metadata": {
        "id": "vZjtU80kMxJv"
      },
      "source": [
        "Replication Example \n",
        "Marjan Orang\n",
        "Spring 2021"
      ]
    },
    {
      "cell_type": "code",
      "metadata": {
        "id": "Yj__MtLhrmN3",
        "colab": {
          "base_uri": "https://localhost:8080/"
        },
        "outputId": "52cc06e6-7af8-4cd6-cd93-c78fb8dadc0f"
      },
      "source": [
        "# packages intended to use\n",
        "import pandas as pd\n",
        "import numpy as np\n",
        "import statsmodels.api as sm\n",
        "import matplotlib.pyplot as plt"
      ],
      "execution_count": 1,
      "outputs": [
        {
          "output_type": "stream",
          "text": [
            "/usr/local/lib/python3.7/dist-packages/statsmodels/tools/_testing.py:19: FutureWarning: pandas.util.testing is deprecated. Use the functions in the public API at pandas.testing instead.\n",
            "  import pandas.util.testing as tm\n"
          ],
          "name": "stderr"
        }
      ]
    },
    {
      "cell_type": "code",
      "metadata": {
        "colab": {
          "resources": {
            "http://localhost:8080/nbextensions/google.colab/files.js": {
              "data": "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",
              "ok": true,
              "headers": [
                [
                  "content-type",
                  "application/javascript"
                ]
              ],
              "status": 200,
              "status_text": ""
            }
          },
          "base_uri": "https://localhost:8080/",
          "height": 90
        },
        "id": "wIYXvrWMIXex",
        "outputId": "2cd15770-118e-4f4b-a83e-9100dece1f07"
      },
      "source": [
        "# data file upload\n",
        "from google.colab import files\n",
        "uploaded = files.upload()\n",
        "\n",
        "for fn in uploaded.keys():\n",
        "  print('User uploaded file \"{name}\" with length {length} bytes'.format(\n",
        "      name=fn, length=len(uploaded[fn])))"
      ],
      "execution_count": 71,
      "outputs": [
        {
          "output_type": "display_data",
          "data": {
            "text/html": [
              "\n",
              "     <input type=\"file\" id=\"files-290e7faa-11f0-450d-a4bb-9eb98b8bd542\" name=\"files[]\" multiple disabled\n",
              "        style=\"border:none\" />\n",
              "     <output id=\"result-290e7faa-11f0-450d-a4bb-9eb98b8bd542\">\n",
              "      Upload widget is only available when the cell has been executed in the\n",
              "      current browser session. Please rerun this cell to enable.\n",
              "      </output>\n",
              "      <script src=\"/nbextensions/google.colab/files.js\"></script> "
            ],
            "text/plain": [
              "<IPython.core.display.HTML object>"
            ]
          },
          "metadata": {
            "tags": []
          }
        },
        {
          "output_type": "stream",
          "text": [
            "Saving State_Averages5.xlsx to State_Averages5.xlsx\n",
            "User uploaded file \"State_Averages5.xlsx\" with length 13793 bytes\n"
          ],
          "name": "stdout"
        }
      ]
    },
    {
      "cell_type": "code",
      "metadata": {
        "colab": {
          "base_uri": "https://localhost:8080/",
          "height": 215
        },
        "id": "LbYK6notrmOC",
        "outputId": "675c2797-0313-4398-d483-d735db010e89"
      },
      "source": [
        "# read csv file using pandas package\n",
        "df = pd.read_excel('State_Averages5.xlsx')\n",
        "df.head()"
      ],
      "execution_count": 102,
      "outputs": [
        {
          "output_type": "execute_result",
          "data": {
            "text/html": [
              "<div>\n",
              "<style scoped>\n",
              "    .dataframe tbody tr th:only-of-type {\n",
              "        vertical-align: middle;\n",
              "    }\n",
              "\n",
              "    .dataframe tbody tr th {\n",
              "        vertical-align: top;\n",
              "    }\n",
              "\n",
              "    .dataframe thead th {\n",
              "        text-align: right;\n",
              "    }\n",
              "</style>\n",
              "<table border=\"1\" class=\"dataframe\">\n",
              "  <thead>\n",
              "    <tr style=\"text-align: right;\">\n",
              "      <th></th>\n",
              "      <th>YEAR</th>\n",
              "      <th>IDNUM</th>\n",
              "      <th>Samplea</th>\n",
              "      <th>State</th>\n",
              "      <th>Average_Income_For_State</th>\n",
              "      <th>Average_Mortgage_By_State</th>\n",
              "      <th>Average_Tax_Rate_For_State</th>\n",
              "      <th>Average_House_Size_By_State</th>\n",
              "      <th>Average_Price_Per_Sq/Ft(State)</th>\n",
              "      <th>Average_Rent_For_State</th>\n",
              "      <th>Average_Cost_of_HousingandAverage_Income</th>\n",
              "    </tr>\n",
              "  </thead>\n",
              "  <tbody>\n",
              "    <tr>\n",
              "      <th>0</th>\n",
              "      <td>2017</td>\n",
              "      <td>1</td>\n",
              "      <td>1</td>\n",
              "      <td>CA</td>\n",
              "      <td>41611.000000</td>\n",
              "      <td>2284.333000</td>\n",
              "      <td>9.000000</td>\n",
              "      <td>4.766667</td>\n",
              "      <td>636.000000</td>\n",
              "      <td>2557.333000</td>\n",
              "      <td>0.058178</td>\n",
              "    </tr>\n",
              "    <tr>\n",
              "      <th>1</th>\n",
              "      <td>2017</td>\n",
              "      <td>2</td>\n",
              "      <td>1</td>\n",
              "      <td>OR</td>\n",
              "      <td>29484.666667</td>\n",
              "      <td>1116.333333</td>\n",
              "      <td>0.000000</td>\n",
              "      <td>5.366667</td>\n",
              "      <td>244.333333</td>\n",
              "      <td>1286.666667</td>\n",
              "      <td>0.040750</td>\n",
              "    </tr>\n",
              "    <tr>\n",
              "      <th>2</th>\n",
              "      <td>2017</td>\n",
              "      <td>3</td>\n",
              "      <td>1</td>\n",
              "      <td>WA</td>\n",
              "      <td>36511.000000</td>\n",
              "      <td>1283.666667</td>\n",
              "      <td>9.233333</td>\n",
              "      <td>5.566667</td>\n",
              "      <td>289.333333</td>\n",
              "      <td>1360.333333</td>\n",
              "      <td>0.036208</td>\n",
              "    </tr>\n",
              "    <tr>\n",
              "      <th>3</th>\n",
              "      <td>2017</td>\n",
              "      <td>4</td>\n",
              "      <td>1</td>\n",
              "      <td>NV</td>\n",
              "      <td>29595.333333</td>\n",
              "      <td>1036.000000</td>\n",
              "      <td>8.083333</td>\n",
              "      <td>5.233333</td>\n",
              "      <td>197.666667</td>\n",
              "      <td>1152.333333</td>\n",
              "      <td>0.036971</td>\n",
              "    </tr>\n",
              "    <tr>\n",
              "      <th>4</th>\n",
              "      <td>2017</td>\n",
              "      <td>5</td>\n",
              "      <td>1</td>\n",
              "      <td>ID</td>\n",
              "      <td>28105.666667</td>\n",
              "      <td>863.666667</td>\n",
              "      <td>6.000000</td>\n",
              "      <td>5.700000</td>\n",
              "      <td>206.000000</td>\n",
              "      <td>951.333333</td>\n",
              "      <td>0.032289</td>\n",
              "    </tr>\n",
              "  </tbody>\n",
              "</table>\n",
              "</div>"
            ],
            "text/plain": [
              "   YEAR  ...  Average_Cost_of_HousingandAverage_Income\n",
              "0  2017  ...                                  0.058178\n",
              "1  2017  ...                                  0.040750\n",
              "2  2017  ...                                  0.036208\n",
              "3  2017  ...                                  0.036971\n",
              "4  2017  ...                                  0.032289\n",
              "\n",
              "[5 rows x 11 columns]"
            ]
          },
          "metadata": {
            "tags": []
          },
          "execution_count": 102
        }
      ]
    },
    {
      "cell_type": "code",
      "metadata": {
        "colab": {
          "base_uri": "https://localhost:8080/"
        },
        "id": "S4jq82R2-gI8",
        "outputId": "02ad879d-1a9b-4f80-ea84-b0f44b8ec363"
      },
      "source": [
        "# list of column names\n",
        "df.columns"
      ],
      "execution_count": 73,
      "outputs": [
        {
          "output_type": "execute_result",
          "data": {
            "text/plain": [
              "Index(['YEAR', 'IDNUM', 'Samplea', 'State', 'Average_Income_For_State',\n",
              "       'Average_Mortgage_By_State', 'Average_Tax_Rate_For_State',\n",
              "       'Average_House_Size_By_State', 'Average_Price_Per_Sq/Ft(State)',\n",
              "       'Average_Rent_For_State', 'Average_Cost_of_HousingandAverage_Income'],\n",
              "      dtype='object')"
            ]
          },
          "metadata": {
            "tags": []
          },
          "execution_count": 73
        }
      ]
    },
    {
      "cell_type": "code",
      "metadata": {
        "colab": {
          "base_uri": "https://localhost:8080/",
          "height": 304
        },
        "id": "zIqRhCx7EiI_",
        "outputId": "f0330f23-2bf7-49a7-def7-f2370c0b39b0"
      },
      "source": [
        "df1 = df\n",
        "df1['year2'] = df1.YEAR\n",
        "df1 = df1.set_index(['IDNUM','YEAR'])\n",
        "df1.head(7)"
      ],
      "execution_count": 106,
      "outputs": [
        {
          "output_type": "execute_result",
          "data": {
            "text/html": [
              "<div>\n",
              "<style scoped>\n",
              "    .dataframe tbody tr th:only-of-type {\n",
              "        vertical-align: middle;\n",
              "    }\n",
              "\n",
              "    .dataframe tbody tr th {\n",
              "        vertical-align: top;\n",
              "    }\n",
              "\n",
              "    .dataframe thead th {\n",
              "        text-align: right;\n",
              "    }\n",
              "</style>\n",
              "<table border=\"1\" class=\"dataframe\">\n",
              "  <thead>\n",
              "    <tr style=\"text-align: right;\">\n",
              "      <th></th>\n",
              "      <th></th>\n",
              "      <th>Samplea</th>\n",
              "      <th>State</th>\n",
              "      <th>Average_Income_For_State</th>\n",
              "      <th>Average_Mortgage_By_State</th>\n",
              "      <th>Average_Tax_Rate_For_State</th>\n",
              "      <th>Average_House_Size_By_State</th>\n",
              "      <th>Average_Price_Per_Sq/Ft(State)</th>\n",
              "      <th>Average_Rent_For_State</th>\n",
              "      <th>Average_Cost_of_HousingandAverage_Income</th>\n",
              "      <th>year2</th>\n",
              "    </tr>\n",
              "    <tr>\n",
              "      <th>IDNUM</th>\n",
              "      <th>YEAR</th>\n",
              "      <th></th>\n",
              "      <th></th>\n",
              "      <th></th>\n",
              "      <th></th>\n",
              "      <th></th>\n",
              "      <th></th>\n",
              "      <th></th>\n",
              "      <th></th>\n",
              "      <th></th>\n",
              "      <th></th>\n",
              "    </tr>\n",
              "  </thead>\n",
              "  <tbody>\n",
              "    <tr>\n",
              "      <th>1</th>\n",
              "      <th>2017</th>\n",
              "      <td>1</td>\n",
              "      <td>CA</td>\n",
              "      <td>41611.000000</td>\n",
              "      <td>2284.333000</td>\n",
              "      <td>9.000000</td>\n",
              "      <td>4.766667</td>\n",
              "      <td>636.000000</td>\n",
              "      <td>2557.333000</td>\n",
              "      <td>0.058178</td>\n",
              "      <td>2017</td>\n",
              "    </tr>\n",
              "    <tr>\n",
              "      <th>2</th>\n",
              "      <th>2017</th>\n",
              "      <td>1</td>\n",
              "      <td>OR</td>\n",
              "      <td>29484.666667</td>\n",
              "      <td>1116.333333</td>\n",
              "      <td>0.000000</td>\n",
              "      <td>5.366667</td>\n",
              "      <td>244.333333</td>\n",
              "      <td>1286.666667</td>\n",
              "      <td>0.040750</td>\n",
              "      <td>2017</td>\n",
              "    </tr>\n",
              "    <tr>\n",
              "      <th>3</th>\n",
              "      <th>2017</th>\n",
              "      <td>1</td>\n",
              "      <td>WA</td>\n",
              "      <td>36511.000000</td>\n",
              "      <td>1283.666667</td>\n",
              "      <td>9.233333</td>\n",
              "      <td>5.566667</td>\n",
              "      <td>289.333333</td>\n",
              "      <td>1360.333333</td>\n",
              "      <td>0.036208</td>\n",
              "      <td>2017</td>\n",
              "    </tr>\n",
              "    <tr>\n",
              "      <th>4</th>\n",
              "      <th>2017</th>\n",
              "      <td>1</td>\n",
              "      <td>NV</td>\n",
              "      <td>29595.333333</td>\n",
              "      <td>1036.000000</td>\n",
              "      <td>8.083333</td>\n",
              "      <td>5.233333</td>\n",
              "      <td>197.666667</td>\n",
              "      <td>1152.333333</td>\n",
              "      <td>0.036971</td>\n",
              "      <td>2017</td>\n",
              "    </tr>\n",
              "    <tr>\n",
              "      <th>5</th>\n",
              "      <th>2017</th>\n",
              "      <td>1</td>\n",
              "      <td>ID</td>\n",
              "      <td>28105.666667</td>\n",
              "      <td>863.666667</td>\n",
              "      <td>6.000000</td>\n",
              "      <td>5.700000</td>\n",
              "      <td>206.000000</td>\n",
              "      <td>951.333333</td>\n",
              "      <td>0.032289</td>\n",
              "      <td>2017</td>\n",
              "    </tr>\n",
              "    <tr>\n",
              "      <th>6</th>\n",
              "      <th>2017</th>\n",
              "      <td>1</td>\n",
              "      <td>AZ</td>\n",
              "      <td>25949.333333</td>\n",
              "      <td>1101.666667</td>\n",
              "      <td>6.433333</td>\n",
              "      <td>4.866667</td>\n",
              "      <td>201.000000</td>\n",
              "      <td>971.000000</td>\n",
              "      <td>0.039937</td>\n",
              "      <td>2017</td>\n",
              "    </tr>\n",
              "    <tr>\n",
              "      <th>7</th>\n",
              "      <th>2017</th>\n",
              "      <td>1</td>\n",
              "      <td>UT</td>\n",
              "      <td>31604.333333</td>\n",
              "      <td>1146.000000</td>\n",
              "      <td>6.433333</td>\n",
              "      <td>6.400000</td>\n",
              "      <td>194.333333</td>\n",
              "      <td>1120.666667</td>\n",
              "      <td>0.035860</td>\n",
              "      <td>2017</td>\n",
              "    </tr>\n",
              "  </tbody>\n",
              "</table>\n",
              "</div>"
            ],
            "text/plain": [
              "            Samplea State  ...  Average_Cost_of_HousingandAverage_Income  year2\n",
              "IDNUM YEAR                 ...                                                 \n",
              "1     2017        1    CA  ...                                  0.058178   2017\n",
              "2     2017        1    OR  ...                                  0.040750   2017\n",
              "3     2017        1    WA  ...                                  0.036208   2017\n",
              "4     2017        1    NV  ...                                  0.036971   2017\n",
              "5     2017        1    ID  ...                                  0.032289   2017\n",
              "6     2017        1    AZ  ...                                  0.039937   2017\n",
              "7     2017        1    UT  ...                                  0.035860   2017\n",
              "\n",
              "[7 rows x 10 columns]"
            ]
          },
          "metadata": {
            "tags": []
          },
          "execution_count": 106
        }
      ]
    },
    {
      "cell_type": "code",
      "metadata": {
        "colab": {
          "base_uri": "https://localhost:8080/",
          "height": 245
        },
        "id": "_WTu2YanBlfG",
        "outputId": "3e8ee4f1-f28b-44c0-b284-93ba776c1195"
      },
      "source": [
        "df_paper = df1[[ 'Average_Income_For_State','Average_Mortgage_By_State', 'Average_Tax_Rate_For_State', 'Average_House_Size_By_State', 'Average_Price_Per_Sq/Ft(State)','Average_Rent_For_State','Average_Cost_of_HousingandAverage_Income', 'year2']]\n",
        "df_paper.head()"
      ],
      "execution_count": 109,
      "outputs": [
        {
          "output_type": "execute_result",
          "data": {
            "text/html": [
              "<div>\n",
              "<style scoped>\n",
              "    .dataframe tbody tr th:only-of-type {\n",
              "        vertical-align: middle;\n",
              "    }\n",
              "\n",
              "    .dataframe tbody tr th {\n",
              "        vertical-align: top;\n",
              "    }\n",
              "\n",
              "    .dataframe thead th {\n",
              "        text-align: right;\n",
              "    }\n",
              "</style>\n",
              "<table border=\"1\" class=\"dataframe\">\n",
              "  <thead>\n",
              "    <tr style=\"text-align: right;\">\n",
              "      <th></th>\n",
              "      <th></th>\n",
              "      <th>Average_Income_For_State</th>\n",
              "      <th>Average_Mortgage_By_State</th>\n",
              "      <th>Average_Tax_Rate_For_State</th>\n",
              "      <th>Average_House_Size_By_State</th>\n",
              "      <th>Average_Price_Per_Sq/Ft(State)</th>\n",
              "      <th>Average_Rent_For_State</th>\n",
              "      <th>Average_Cost_of_HousingandAverage_Income</th>\n",
              "      <th>year2</th>\n",
              "    </tr>\n",
              "    <tr>\n",
              "      <th>IDNUM</th>\n",
              "      <th>YEAR</th>\n",
              "      <th></th>\n",
              "      <th></th>\n",
              "      <th></th>\n",
              "      <th></th>\n",
              "      <th></th>\n",
              "      <th></th>\n",
              "      <th></th>\n",
              "      <th></th>\n",
              "    </tr>\n",
              "  </thead>\n",
              "  <tbody>\n",
              "    <tr>\n",
              "      <th>1</th>\n",
              "      <th>2017</th>\n",
              "      <td>41611.000000</td>\n",
              "      <td>2284.333000</td>\n",
              "      <td>9.000000</td>\n",
              "      <td>4.766667</td>\n",
              "      <td>636.000000</td>\n",
              "      <td>2557.333000</td>\n",
              "      <td>0.058178</td>\n",
              "      <td>2017</td>\n",
              "    </tr>\n",
              "    <tr>\n",
              "      <th>2</th>\n",
              "      <th>2017</th>\n",
              "      <td>29484.666667</td>\n",
              "      <td>1116.333333</td>\n",
              "      <td>0.000000</td>\n",
              "      <td>5.366667</td>\n",
              "      <td>244.333333</td>\n",
              "      <td>1286.666667</td>\n",
              "      <td>0.040750</td>\n",
              "      <td>2017</td>\n",
              "    </tr>\n",
              "    <tr>\n",
              "      <th>3</th>\n",
              "      <th>2017</th>\n",
              "      <td>36511.000000</td>\n",
              "      <td>1283.666667</td>\n",
              "      <td>9.233333</td>\n",
              "      <td>5.566667</td>\n",
              "      <td>289.333333</td>\n",
              "      <td>1360.333333</td>\n",
              "      <td>0.036208</td>\n",
              "      <td>2017</td>\n",
              "    </tr>\n",
              "    <tr>\n",
              "      <th>4</th>\n",
              "      <th>2017</th>\n",
              "      <td>29595.333333</td>\n",
              "      <td>1036.000000</td>\n",
              "      <td>8.083333</td>\n",
              "      <td>5.233333</td>\n",
              "      <td>197.666667</td>\n",
              "      <td>1152.333333</td>\n",
              "      <td>0.036971</td>\n",
              "      <td>2017</td>\n",
              "    </tr>\n",
              "    <tr>\n",
              "      <th>5</th>\n",
              "      <th>2017</th>\n",
              "      <td>28105.666667</td>\n",
              "      <td>863.666667</td>\n",
              "      <td>6.000000</td>\n",
              "      <td>5.700000</td>\n",
              "      <td>206.000000</td>\n",
              "      <td>951.333333</td>\n",
              "      <td>0.032289</td>\n",
              "      <td>2017</td>\n",
              "    </tr>\n",
              "  </tbody>\n",
              "</table>\n",
              "</div>"
            ],
            "text/plain": [
              "            Average_Income_For_State  ...  year2\n",
              "IDNUM YEAR                            ...       \n",
              "1     2017              41611.000000  ...   2017\n",
              "2     2017              29484.666667  ...   2017\n",
              "3     2017              36511.000000  ...   2017\n",
              "4     2017              29595.333333  ...   2017\n",
              "5     2017              28105.666667  ...   2017\n",
              "\n",
              "[5 rows x 8 columns]"
            ]
          },
          "metadata": {
            "tags": []
          },
          "execution_count": 109
        }
      ]
    },
    {
      "cell_type": "code",
      "metadata": {
        "colab": {
          "base_uri": "https://localhost:8080/",
          "height": 304
        },
        "id": "JTRFhWH_Gq0W",
        "outputId": "e71b5c0c-177e-4600-89e5-09fb0a52911d"
      },
      "source": [
        "df_paper.describe()"
      ],
      "execution_count": 110,
      "outputs": [
        {
          "output_type": "execute_result",
          "data": {
            "text/html": [
              "<div>\n",
              "<style scoped>\n",
              "    .dataframe tbody tr th:only-of-type {\n",
              "        vertical-align: middle;\n",
              "    }\n",
              "\n",
              "    .dataframe tbody tr th {\n",
              "        vertical-align: top;\n",
              "    }\n",
              "\n",
              "    .dataframe thead th {\n",
              "        text-align: right;\n",
              "    }\n",
              "</style>\n",
              "<table border=\"1\" class=\"dataframe\">\n",
              "  <thead>\n",
              "    <tr style=\"text-align: right;\">\n",
              "      <th></th>\n",
              "      <th>Average_Income_For_State</th>\n",
              "      <th>Average_Mortgage_By_State</th>\n",
              "      <th>Average_Tax_Rate_For_State</th>\n",
              "      <th>Average_House_Size_By_State</th>\n",
              "      <th>Average_Price_Per_Sq/Ft(State)</th>\n",
              "      <th>Average_Rent_For_State</th>\n",
              "      <th>Average_Cost_of_HousingandAverage_Income</th>\n",
              "      <th>year2</th>\n",
              "    </tr>\n",
              "  </thead>\n",
              "  <tbody>\n",
              "    <tr>\n",
              "      <th>count</th>\n",
              "      <td>50.000000</td>\n",
              "      <td>50.000000</td>\n",
              "      <td>50.000000</td>\n",
              "      <td>50.000000</td>\n",
              "      <td>50.000000</td>\n",
              "      <td>50.000000</td>\n",
              "      <td>50.000000</td>\n",
              "      <td>50.0</td>\n",
              "    </tr>\n",
              "    <tr>\n",
              "      <th>mean</th>\n",
              "      <td>34422.120000</td>\n",
              "      <td>1045.806660</td>\n",
              "      <td>6.141400</td>\n",
              "      <td>6.538667</td>\n",
              "      <td>184.836667</td>\n",
              "      <td>1074.086660</td>\n",
              "      <td>0.032350</td>\n",
              "      <td>2017.0</td>\n",
              "    </tr>\n",
              "    <tr>\n",
              "      <th>std</th>\n",
              "      <td>17225.473107</td>\n",
              "      <td>276.205003</td>\n",
              "      <td>2.331722</td>\n",
              "      <td>6.493661</td>\n",
              "      <td>110.812760</td>\n",
              "      <td>300.685086</td>\n",
              "      <td>0.007014</td>\n",
              "      <td>0.0</td>\n",
              "    </tr>\n",
              "    <tr>\n",
              "      <th>min</th>\n",
              "      <td>24080.333333</td>\n",
              "      <td>679.333333</td>\n",
              "      <td>0.000000</td>\n",
              "      <td>4.566667</td>\n",
              "      <td>97.666667</td>\n",
              "      <td>704.333333</td>\n",
              "      <td>0.007686</td>\n",
              "      <td>2017.0</td>\n",
              "    </tr>\n",
              "    <tr>\n",
              "      <th>25%</th>\n",
              "      <td>29512.333333</td>\n",
              "      <td>864.916667</td>\n",
              "      <td>6.000000</td>\n",
              "      <td>5.375000</td>\n",
              "      <td>125.916667</td>\n",
              "      <td>882.416667</td>\n",
              "      <td>0.028737</td>\n",
              "      <td>2017.0</td>\n",
              "    </tr>\n",
              "    <tr>\n",
              "      <th>50%</th>\n",
              "      <td>31703.166667</td>\n",
              "      <td>983.166667</td>\n",
              "      <td>6.648333</td>\n",
              "      <td>5.616667</td>\n",
              "      <td>152.333333</td>\n",
              "      <td>986.666667</td>\n",
              "      <td>0.031634</td>\n",
              "      <td>2017.0</td>\n",
              "    </tr>\n",
              "    <tr>\n",
              "      <th>75%</th>\n",
              "      <td>34955.250000</td>\n",
              "      <td>1133.583333</td>\n",
              "      <td>7.264167</td>\n",
              "      <td>5.925000</td>\n",
              "      <td>196.833333</td>\n",
              "      <td>1166.166667</td>\n",
              "      <td>0.035226</td>\n",
              "      <td>2017.0</td>\n",
              "    </tr>\n",
              "    <tr>\n",
              "      <th>max</th>\n",
              "      <td>150160.000000</td>\n",
              "      <td>2284.333000</td>\n",
              "      <td>9.583333</td>\n",
              "      <td>51.433333</td>\n",
              "      <td>636.000000</td>\n",
              "      <td>2557.333000</td>\n",
              "      <td>0.058178</td>\n",
              "      <td>2017.0</td>\n",
              "    </tr>\n",
              "  </tbody>\n",
              "</table>\n",
              "</div>"
            ],
            "text/plain": [
              "       Average_Income_For_State  ...   year2\n",
              "count                 50.000000  ...    50.0\n",
              "mean               34422.120000  ...  2017.0\n",
              "std                17225.473107  ...     0.0\n",
              "min                24080.333333  ...  2017.0\n",
              "25%                29512.333333  ...  2017.0\n",
              "50%                31703.166667  ...  2017.0\n",
              "75%                34955.250000  ...  2017.0\n",
              "max               150160.000000  ...  2017.0\n",
              "\n",
              "[8 rows x 8 columns]"
            ]
          },
          "metadata": {
            "tags": []
          },
          "execution_count": 110
        }
      ]
    },
    {
      "cell_type": "code",
      "metadata": {
        "colab": {
          "base_uri": "https://localhost:8080/",
          "height": 522
        },
        "id": "kIbLJcfb5_ge",
        "outputId": "5ee9d9a4-b259-40c1-b239-c37876a230cd"
      },
      "source": [
        "!pip install linearmodels"
      ],
      "execution_count": 64,
      "outputs": [
        {
          "output_type": "stream",
          "text": [
            "Collecting linearmodels\n",
            "\u001b[?25l  Downloading https://files.pythonhosted.org/packages/72/9e/f62a8b59faf5d70b6f68a100672ff69ffb50bfd6ca1f5e862326a80a72cf/linearmodels-4.23-cp37-cp37m-manylinux1_x86_64.whl (1.5MB)\n",
            "\r\u001b[K     |▎                               | 10kB 17.8MB/s eta 0:00:01\r\u001b[K     |▌                               | 20kB 17.5MB/s eta 0:00:01\r\u001b[K     |▊                               | 30kB 13.7MB/s eta 0:00:01\r\u001b[K     |█                               | 40kB 12.8MB/s eta 0:00:01\r\u001b[K     |█▏                              | 51kB 8.9MB/s eta 0:00:01\r\u001b[K     |█▍                              | 61kB 8.4MB/s eta 0:00:01\r\u001b[K     |█▋                              | 71kB 9.4MB/s eta 0:00:01\r\u001b[K     |█▉                              | 81kB 10.5MB/s eta 0:00:01\r\u001b[K     |██                              | 92kB 9.7MB/s eta 0:00:01\r\u001b[K     |██▎                             | 102kB 8.5MB/s eta 0:00:01\r\u001b[K     |██▌                             | 112kB 8.5MB/s eta 0:00:01\r\u001b[K     |██▊                             | 122kB 8.5MB/s eta 0:00:01\r\u001b[K     |███                             | 133kB 8.5MB/s eta 0:00:01\r\u001b[K     |███▏                            | 143kB 8.5MB/s eta 0:00:01\r\u001b[K     |███▍                            | 153kB 8.5MB/s eta 0:00:01\r\u001b[K     |███▋                            | 163kB 8.5MB/s eta 0:00:01\r\u001b[K     |███▉                            | 174kB 8.5MB/s eta 0:00:01\r\u001b[K     |████                            | 184kB 8.5MB/s eta 0:00:01\r\u001b[K     |████▎                           | 194kB 8.5MB/s eta 0:00:01\r\u001b[K     |████▌                           | 204kB 8.5MB/s eta 0:00:01\r\u001b[K     |████▊                           | 215kB 8.5MB/s eta 0:00:01\r\u001b[K     |█████                           | 225kB 8.5MB/s eta 0:00:01\r\u001b[K     |█████▏                          | 235kB 8.5MB/s eta 0:00:01\r\u001b[K     |█████▍                          | 245kB 8.5MB/s eta 0:00:01\r\u001b[K     |█████▋                          | 256kB 8.5MB/s eta 0:00:01\r\u001b[K     |█████▉                          | 266kB 8.5MB/s eta 0:00:01\r\u001b[K     |██████                          | 276kB 8.5MB/s eta 0:00:01\r\u001b[K     |██████▎                         | 286kB 8.5MB/s eta 0:00:01\r\u001b[K     |██████▌                         | 296kB 8.5MB/s eta 0:00:01\r\u001b[K     |██████▊                         | 307kB 8.5MB/s eta 0:00:01\r\u001b[K     |███████                         | 317kB 8.5MB/s eta 0:00:01\r\u001b[K     |███████▏                        | 327kB 8.5MB/s eta 0:00:01\r\u001b[K     |███████▍                        | 337kB 8.5MB/s eta 0:00:01\r\u001b[K     |███████▋                        | 348kB 8.5MB/s eta 0:00:01\r\u001b[K     |███████▉                        | 358kB 8.5MB/s eta 0:00:01\r\u001b[K     |████████                        | 368kB 8.5MB/s eta 0:00:01\r\u001b[K     |████████▎                       | 378kB 8.5MB/s eta 0:00:01\r\u001b[K     |████████▌                       | 389kB 8.5MB/s eta 0:00:01\r\u001b[K     |████████▊                       | 399kB 8.5MB/s eta 0:00:01\r\u001b[K     |█████████                       | 409kB 8.5MB/s eta 0:00:01\r\u001b[K     |█████████▏                      | 419kB 8.5MB/s eta 0:00:01\r\u001b[K     |█████████▍                      | 430kB 8.5MB/s eta 0:00:01\r\u001b[K     |█████████▋                      | 440kB 8.5MB/s eta 0:00:01\r\u001b[K     |█████████▉                      | 450kB 8.5MB/s eta 0:00:01\r\u001b[K     |██████████                      | 460kB 8.5MB/s eta 0:00:01\r\u001b[K     |██████████▎                     | 471kB 8.5MB/s eta 0:00:01\r\u001b[K     |██████████▌                     | 481kB 8.5MB/s eta 0:00:01\r\u001b[K     |██████████▊                     | 491kB 8.5MB/s eta 0:00:01\r\u001b[K     |███████████                     | 501kB 8.5MB/s eta 0:00:01\r\u001b[K     |███████████▏                    | 512kB 8.5MB/s eta 0:00:01\r\u001b[K     |███████████▍                    | 522kB 8.5MB/s eta 0:00:01\r\u001b[K     |███████████▋                    | 532kB 8.5MB/s eta 0:00:01\r\u001b[K     |███████████▉                    | 542kB 8.5MB/s eta 0:00:01\r\u001b[K     |████████████                    | 552kB 8.5MB/s eta 0:00:01\r\u001b[K     |████████████▎                   | 563kB 8.5MB/s eta 0:00:01\r\u001b[K     |████████████▌                   | 573kB 8.5MB/s eta 0:00:01\r\u001b[K     |████████████▊                   | 583kB 8.5MB/s eta 0:00:01\r\u001b[K     |█████████████                   | 593kB 8.5MB/s eta 0:00:01\r\u001b[K     |█████████████▏                  | 604kB 8.5MB/s eta 0:00:01\r\u001b[K     |█████████████▍                  | 614kB 8.5MB/s eta 0:00:01\r\u001b[K     |█████████████▋                  | 624kB 8.5MB/s eta 0:00:01\r\u001b[K     |█████████████▉                  | 634kB 8.5MB/s eta 0:00:01\r\u001b[K     |██████████████                  | 645kB 8.5MB/s eta 0:00:01\r\u001b[K     |██████████████▎                 | 655kB 8.5MB/s eta 0:00:01\r\u001b[K     |██████████████▌                 | 665kB 8.5MB/s eta 0:00:01\r\u001b[K     |██████████████▊                 | 675kB 8.5MB/s eta 0:00:01\r\u001b[K     |███████████████                 | 686kB 8.5MB/s eta 0:00:01\r\u001b[K     |███████████████▏                | 696kB 8.5MB/s eta 0:00:01\r\u001b[K     |███████████████▍                | 706kB 8.5MB/s eta 0:00:01\r\u001b[K     |███████████████▋                | 716kB 8.5MB/s eta 0:00:01\r\u001b[K     |███████████████▉                | 727kB 8.5MB/s eta 0:00:01\r\u001b[K     |████████████████                | 737kB 8.5MB/s eta 0:00:01\r\u001b[K     |████████████████▎               | 747kB 8.5MB/s eta 0:00:01\r\u001b[K     |████████████████▌               | 757kB 8.5MB/s eta 0:00:01\r\u001b[K     |████████████████▊               | 768kB 8.5MB/s eta 0:00:01\r\u001b[K     |█████████████████               | 778kB 8.5MB/s eta 0:00:01\r\u001b[K     |█████████████████▏              | 788kB 8.5MB/s eta 0:00:01\r\u001b[K     |█████████████████▍              | 798kB 8.5MB/s eta 0:00:01\r\u001b[K     |█████████████████▋              | 808kB 8.5MB/s eta 0:00:01\r\u001b[K     |█████████████████▉              | 819kB 8.5MB/s eta 0:00:01\r\u001b[K     |██████████████████              | 829kB 8.5MB/s eta 0:00:01\r\u001b[K     |██████████████████▎             | 839kB 8.5MB/s eta 0:00:01\r\u001b[K     |██████████████████▌             | 849kB 8.5MB/s eta 0:00:01\r\u001b[K     |██████████████████▊             | 860kB 8.5MB/s eta 0:00:01\r\u001b[K     |███████████████████             | 870kB 8.5MB/s eta 0:00:01\r\u001b[K     |███████████████████▏            | 880kB 8.5MB/s eta 0:00:01\r\u001b[K     |███████████████████▍            | 890kB 8.5MB/s eta 0:00:01\r\u001b[K     |███████████████████▋            | 901kB 8.5MB/s eta 0:00:01\r\u001b[K     |███████████████████▉            | 911kB 8.5MB/s eta 0:00:01\r\u001b[K     |████████████████████            | 921kB 8.5MB/s eta 0:00:01\r\u001b[K     |████████████████████▎           | 931kB 8.5MB/s eta 0:00:01\r\u001b[K     |████████████████████▌           | 942kB 8.5MB/s eta 0:00:01\r\u001b[K     |████████████████████▊           | 952kB 8.5MB/s eta 0:00:01\r\u001b[K     |█████████████████████           | 962kB 8.5MB/s eta 0:00:01\r\u001b[K     |█████████████████████▏          | 972kB 8.5MB/s eta 0:00:01\r\u001b[K     |█████████████████████▍          | 983kB 8.5MB/s eta 0:00:01\r\u001b[K     |█████████████████████▋          | 993kB 8.5MB/s eta 0:00:01\r\u001b[K     |█████████████████████▉          | 1.0MB 8.5MB/s eta 0:00:01\r\u001b[K     |██████████████████████          | 1.0MB 8.5MB/s eta 0:00:01\r\u001b[K     |██████████████████████▎         | 1.0MB 8.5MB/s eta 0:00:01\r\u001b[K     |██████████████████████▌         | 1.0MB 8.5MB/s eta 0:00:01\r\u001b[K     |██████████████████████▊         | 1.0MB 8.5MB/s eta 0:00:01\r\u001b[K     |███████████████████████         | 1.1MB 8.5MB/s eta 0:00:01\r\u001b[K     |███████████████████████▏        | 1.1MB 8.5MB/s eta 0:00:01\r\u001b[K     |███████████████████████▍        | 1.1MB 8.5MB/s eta 0:00:01\r\u001b[K     |███████████████████████▋        | 1.1MB 8.5MB/s eta 0:00:01\r\u001b[K     |███████████████████████▉        | 1.1MB 8.5MB/s eta 0:00:01\r\u001b[K     |████████████████████████        | 1.1MB 8.5MB/s eta 0:00:01\r\u001b[K     |████████████████████████▎       | 1.1MB 8.5MB/s eta 0:00:01\r\u001b[K     |████████████████████████▌       | 1.1MB 8.5MB/s eta 0:00:01\r\u001b[K     |████████████████████████▊       | 1.1MB 8.5MB/s eta 0:00:01\r\u001b[K     |█████████████████████████       | 1.1MB 8.5MB/s eta 0:00:01\r\u001b[K     |█████████████████████████▏      | 1.2MB 8.5MB/s eta 0:00:01\r\u001b[K     |█████████████████████████▍      | 1.2MB 8.5MB/s eta 0:00:01\r\u001b[K     |█████████████████████████▋      | 1.2MB 8.5MB/s eta 0:00:01\r\u001b[K     |█████████████████████████▉      | 1.2MB 8.5MB/s eta 0:00:01\r\u001b[K     |██████████████████████████      | 1.2MB 8.5MB/s eta 0:00:01\r\u001b[K     |██████████████████████████▎     | 1.2MB 8.5MB/s eta 0:00:01\r\u001b[K     |██████████████████████████▌     | 1.2MB 8.5MB/s eta 0:00:01\r\u001b[K     |██████████████████████████▊     | 1.2MB 8.5MB/s eta 0:00:01\r\u001b[K     |███████████████████████████     | 1.2MB 8.5MB/s eta 0:00:01\r\u001b[K     |███████████████████████████▏    | 1.2MB 8.5MB/s eta 0:00:01\r\u001b[K     |███████████████████████████▍    | 1.3MB 8.5MB/s eta 0:00:01\r\u001b[K     |███████████████████████████▋    | 1.3MB 8.5MB/s eta 0:00:01\r\u001b[K     |███████████████████████████▉    | 1.3MB 8.5MB/s eta 0:00:01\r\u001b[K     |████████████████████████████    | 1.3MB 8.5MB/s eta 0:00:01\r\u001b[K     |████████████████████████████▎   | 1.3MB 8.5MB/s eta 0:00:01\r\u001b[K     |████████████████████████████▌   | 1.3MB 8.5MB/s eta 0:00:01\r\u001b[K     |████████████████████████████▊   | 1.3MB 8.5MB/s eta 0:00:01\r\u001b[K     |█████████████████████████████   | 1.3MB 8.5MB/s eta 0:00:01\r\u001b[K     |█████████████████████████████▏  | 1.3MB 8.5MB/s eta 0:00:01\r\u001b[K     |█████████████████████████████▍  | 1.4MB 8.5MB/s eta 0:00:01\r\u001b[K     |█████████████████████████████▋  | 1.4MB 8.5MB/s eta 0:00:01\r\u001b[K     |█████████████████████████████▉  | 1.4MB 8.5MB/s eta 0:00:01\r\u001b[K     |██████████████████████████████  | 1.4MB 8.5MB/s eta 0:00:01\r\u001b[K     |██████████████████████████████▎ | 1.4MB 8.5MB/s eta 0:00:01\r\u001b[K     |██████████████████████████████▌ | 1.4MB 8.5MB/s eta 0:00:01\r\u001b[K     |██████████████████████████████▊ | 1.4MB 8.5MB/s eta 0:00:01\r\u001b[K     |███████████████████████████████ | 1.4MB 8.5MB/s eta 0:00:01\r\u001b[K     |███████████████████████████████▏| 1.4MB 8.5MB/s eta 0:00:01\r\u001b[K     |███████████████████████████████▍| 1.4MB 8.5MB/s eta 0:00:01\r\u001b[K     |███████████████████████████████▋| 1.5MB 8.5MB/s eta 0:00:01\r\u001b[K     |███████████████████████████████▉| 1.5MB 8.5MB/s eta 0:00:01\r\u001b[K     |████████████████████████████████| 1.5MB 8.5MB/s \n",
            "\u001b[?25hRequirement already satisfied: patsy in /usr/local/lib/python3.7/dist-packages (from linearmodels) (0.5.1)\n",
            "Collecting statsmodels>=0.11\n",
            "\u001b[?25l  Downloading https://files.pythonhosted.org/packages/da/69/8eef30a6237c54f3c0b524140e2975f4b1eea3489b45eb3339574fc8acee/statsmodels-0.12.2-cp37-cp37m-manylinux1_x86_64.whl (9.5MB)\n",
            "\u001b[K     |████████████████████████████████| 9.5MB 48.6MB/s \n",
            "\u001b[?25hCollecting property-cached>=1.6.3\n",
            "  Downloading https://files.pythonhosted.org/packages/5c/6c/94d8e520b20a2502e508e1c558f338061cf409cbee78fd6a3a5c6ae812bd/property_cached-1.6.4-py2.py3-none-any.whl\n",
            "Requirement already satisfied: Cython>=0.29.21 in /usr/local/lib/python3.7/dist-packages (from linearmodels) (0.29.22)\n",
            "Requirement already satisfied: numpy>=1.16 in /usr/local/lib/python3.7/dist-packages (from linearmodels) (1.19.5)\n",
            "Requirement already satisfied: pandas>=0.24 in /usr/local/lib/python3.7/dist-packages (from linearmodels) (1.1.5)\n",
            "Requirement already satisfied: scipy>=1.2 in /usr/local/lib/python3.7/dist-packages (from linearmodels) (1.4.1)\n",
            "Collecting pyhdfe>=0.1\n",
            "  Downloading https://files.pythonhosted.org/packages/81/38/a53257196401029dd34c83c0528de22032d7b602e8bbcaa6d560040d42c2/pyhdfe-0.1.0-py3-none-any.whl\n",
            "Collecting mypy-extensions>=0.4\n",
            "  Downloading https://files.pythonhosted.org/packages/5c/eb/975c7c080f3223a5cdaff09612f3a5221e4ba534f7039db34c35d95fa6a5/mypy_extensions-0.4.3-py2.py3-none-any.whl\n",
            "Requirement already satisfied: six in /usr/local/lib/python3.7/dist-packages (from patsy->linearmodels) (1.15.0)\n",
            "Requirement already satisfied: pytz>=2017.2 in /usr/local/lib/python3.7/dist-packages (from pandas>=0.24->linearmodels) (2018.9)\n",
            "Requirement already satisfied: python-dateutil>=2.7.3 in /usr/local/lib/python3.7/dist-packages (from pandas>=0.24->linearmodels) (2.8.1)\n",
            "Installing collected packages: statsmodels, property-cached, pyhdfe, mypy-extensions, linearmodels\n",
            "  Found existing installation: statsmodels 0.10.2\n",
            "    Uninstalling statsmodels-0.10.2:\n",
            "      Successfully uninstalled statsmodels-0.10.2\n",
            "Successfully installed linearmodels-4.23 mypy-extensions-0.4.3 property-cached-1.6.4 pyhdfe-0.1.0 statsmodels-0.12.2\n"
          ],
          "name": "stdout"
        },
        {
          "output_type": "display_data",
          "data": {
            "application/vnd.colab-display-data+json": {
              "pip_warning": {
                "packages": [
                  "statsmodels"
                ]
              }
            }
          },
          "metadata": {
            "tags": []
          }
        }
      ]
    },
    {
      "cell_type": "code",
      "metadata": {
        "id": "x1Q5R0s9NV8v"
      },
      "source": [
        "\n",
        "from linearmodels.panel import PanelOLS"
      ],
      "execution_count": 65,
      "outputs": []
    },
    {
      "cell_type": "code",
      "metadata": {
        "id": "vpmtv6NE4y3s"
      },
      "source": [
        "df1.columns"
      ],
      "execution_count": null,
      "outputs": []
    },
    {
      "cell_type": "code",
      "metadata": {
        "colab": {
          "base_uri": "https://localhost:8080/"
        },
        "id": "Pus_w3BNNH1i",
        "outputId": "aabafa5e-389c-475d-d17f-df351b79be64"
      },
      "source": [
        "#Table 3, Column 1\n",
        "\n",
        "exog_vars = ['Average_Income_For_State','Average_Mortgage_By_State', 'Average_Tax_Rate_For_State','Average_House_Size_By_State','Average_Price_Per_Sq/Ft(State)','Average_Rent_For_State']\n",
        "exog = sm.add_constant(df_paper[exog_vars])\n",
        "\n",
        "mod = PanelOLS(df_paper.Average_Cost_of_HousingandAverage_Income, exog)\n",
        "fe_res = mod.fit()\n",
        "print(fe_res)"
      ],
      "execution_count": 101,
      "outputs": [
        {
          "output_type": "stream",
          "text": [
            "                                     PanelOLS Estimation Summary                                      \n",
            "======================================================================================================\n",
            "Dep. Variable:     Average_Cost_of_HousingandAverage_Income   R-squared:                        0.8929\n",
            "Estimator:                                         PanelOLS   R-squared (Between):              0.8929\n",
            "No. Observations:                                        50   R-squared (Within):               0.0000\n",
            "Date:                                      Fri, Apr 02 2021   R-squared (Overall):              0.8929\n",
            "Time:                                              00:21:25   Log-likelihood                    233.41\n",
            "Cov. Estimator:                                  Unadjusted                                           \n",
            "                                                              F-statistic:                      59.772\n",
            "Entities:                                                50   P-value                           0.0000\n",
            "Avg Obs:                                             1.0000   Distribution:                    F(6,43)\n",
            "Min Obs:                                             1.0000                                           \n",
            "Max Obs:                                             1.0000   F-statistic (robust):             59.772\n",
            "                                                              P-value                           0.0000\n",
            "Time periods:                                             1   Distribution:                    F(6,43)\n",
            "Avg Obs:                                             50.000                                           \n",
            "Min Obs:                                             50.000                                           \n",
            "Max Obs:                                             50.000                                           \n",
            "                                                                                                      \n",
            "                                       Parameter Estimates                                        \n",
            "==================================================================================================\n",
            "                                Parameter  Std. Err.     T-stat    P-value    Lower CI    Upper CI\n",
            "--------------------------------------------------------------------------------------------------\n",
            "const                              0.0231     0.0024     9.7276     0.0000      0.0183      0.0279\n",
            "Average_Income_For_State       -2.611e-07  2.252e-08    -11.597     0.0000  -3.066e-07  -2.157e-07\n",
            "Average_Mortgage_By_State       2.601e-06  4.407e-06     0.5902     0.5582  -6.287e-06   1.149e-05\n",
            "Average_Tax_Rate_For_State        -0.0002     0.0002    -1.3818     0.1742     -0.0006      0.0001\n",
            "Average_House_Size_By_State    -3.499e-05  5.785e-05    -0.6049     0.5484     -0.0002   8.167e-05\n",
            "Average_Price_Per_Sq/Ft(State)  1.039e-05  7.378e-06     1.4090     0.1660  -4.483e-06   2.527e-05\n",
            "Average_Rent_For_State          1.421e-05  3.411e-06     4.1662     0.0001   7.332e-06   2.109e-05\n",
            "==================================================================================================\n",
            "\n",
            "\n"
          ],
          "name": "stdout"
        }
      ]
    },
    {
      "cell_type": "code",
      "metadata": {
        "id": "2SrKJUxz8uOB",
        "colab": {
          "base_uri": "https://localhost:8080/"
        },
        "outputId": "df025cf7-1491-48ee-b3b0-4f6b7310852a"
      },
      "source": [
        "#Table 3, Column 1\n",
        "\n",
        "exog_vars = ['ln_commit', 'inflation', 'per_exch', 'year2']\n",
        "exog = sm.add_constant(df_paper[exog_vars])\n",
        "\n",
        "mod = PanelOLS(df_paper.ln_WB_tofg, exog)\n",
        "fe_res = mod.fit()\n",
        "print(fe_res)"
      ],
      "execution_count": null,
      "outputs": [
        {
          "output_type": "stream",
          "text": [
            "                          PanelOLS Estimation Summary                           \n",
            "================================================================================\n",
            "Dep. Variable:             ln_WB_tofg   R-squared:                        0.8054\n",
            "Estimator:                   PanelOLS   R-squared (Between):              0.9521\n",
            "No. Observations:                1097   R-squared (Within):               0.2606\n",
            "Date:                Fri, Mar 26 2021   R-squared (Overall):              0.8054\n",
            "Time:                        01:48:01   Log-likelihood                   -1039.1\n",
            "Cov. Estimator:            Unadjusted                                           \n",
            "                                        F-statistic:                      1130.1\n",
            "Entities:                          97   P-value                           0.0000\n",
            "Avg Obs:                       11.309   Distribution:                  F(4,1092)\n",
            "Min Obs:                       2.0000                                           \n",
            "Max Obs:                       22.000   F-statistic (robust):             1130.1\n",
            "                                        P-value                           0.0000\n",
            "Time periods:                      22   Distribution:                  F(4,1092)\n",
            "Avg Obs:                       49.864                                           \n",
            "Min Obs:                       23.000                                           \n",
            "Max Obs:                       61.000                                           \n",
            "                                                                                \n",
            "                             Parameter Estimates                              \n",
            "==============================================================================\n",
            "            Parameter  Std. Err.     T-stat    P-value    Lower CI    Upper CI\n",
            "------------------------------------------------------------------------------\n",
            "const         -15.548     6.3992    -2.4297     0.0153     -28.104     -2.9918\n",
            "ln_commit      0.9710     0.0145     66.912     0.0000      0.9425      0.9994\n",
            "inflation     -0.0044     0.0272    -0.1612     0.8719     -0.0578      0.0490\n",
            "per_exch      -0.0003     0.0258    -0.0098     0.9922     -0.0510      0.0505\n",
            "year2          0.0069     0.0032     2.1614     0.0309      0.0006      0.0132\n",
            "==============================================================================\n",
            "\n",
            "\n"
          ],
          "name": "stdout"
        },
        {
          "output_type": "stream",
          "text": [
            "/usr/local/lib/python3.7/dist-packages/linearmodels/shared/exceptions.py:35: MissingValueWarning: \n",
            "Inputs contain missing values. Dropping rows with missing observations.\n",
            "  warnings.warn(missing_value_warning_msg, MissingValueWarning)\n"
          ],
          "name": "stderr"
        }
      ]
    },
    {
      "cell_type": "code",
      "metadata": {
        "colab": {
          "base_uri": "https://localhost:8080/"
        },
        "id": "bCY3b7va8kNH",
        "outputId": "63a0b66a-b151-4abd-9ef0-077c2f0f2f61"
      },
      "source": [
        "#Table 3, Column 2\n",
        "\n",
        "exog_vars = ['ln_commit', 'US_friend', 'inflation', 'per_exch', 'year2']\n",
        "#exog_vars = ['ln_commit', 'inflation', 'per_exch', 'year2']\n",
        "exog = sm.add_constant(df_paper[exog_vars])\n",
        "\n",
        "from linearmodels.panel import PanelOLS\n",
        "mod = PanelOLS(df_paper.ln_WB_tofg, exog)\n",
        "#, entity_effects=True , drop_absorbed=True\n",
        "\n",
        "#mod = PanelOLS(data.lwage, exog, entity_effects=True)\n",
        "fe_res = mod.fit()\n",
        "print(fe_res)"
      ],
      "execution_count": null,
      "outputs": [
        {
          "output_type": "stream",
          "text": [
            "                          PanelOLS Estimation Summary                           \n",
            "================================================================================\n",
            "Dep. Variable:             ln_WB_tofg   R-squared:                        0.8055\n",
            "Estimator:                   PanelOLS   R-squared (Between):             -0.3814\n",
            "No. Observations:                1097   R-squared (Within):               0.8165\n",
            "Date:                Thu, Feb 25 2021   R-squared (Overall):              0.8055\n",
            "Time:                        04:22:10   Log-likelihood                   -1038.8\n",
            "Cov. Estimator:            Unadjusted                                           \n",
            "                                        F-statistic:                      903.88\n",
            "Entities:                          22   P-value                           0.0000\n",
            "Avg Obs:                       49.864   Distribution:                  F(5,1091)\n",
            "Min Obs:                       23.000                                           \n",
            "Max Obs:                       61.000   F-statistic (robust):             903.88\n",
            "                                        P-value                           0.0000\n",
            "Time periods:                      97   Distribution:                  F(5,1091)\n",
            "Avg Obs:                       11.309                                           \n",
            "Min Obs:                       2.0000                                           \n",
            "Max Obs:                       22.000                                           \n",
            "                                                                                \n",
            "                             Parameter Estimates                              \n",
            "==============================================================================\n",
            "            Parameter  Std. Err.     T-stat    P-value    Lower CI    Upper CI\n",
            "------------------------------------------------------------------------------\n",
            "const         -16.330     6.4761    -2.5216     0.0118     -29.037     -3.6228\n",
            "ln_commit      0.9708     0.0145     66.874     0.0000      0.9423      0.9992\n",
            "US_friend      0.0458     0.0578     0.7916     0.4288     -0.0677      0.1592\n",
            "inflation     -0.0051     0.0272    -0.1884     0.8506     -0.0586      0.0483\n",
            "per_exch       0.0004     0.0259     0.0142     0.9887     -0.0504      0.0511\n",
            "year2          0.0073     0.0032     2.2531     0.0245      0.0009      0.0137\n",
            "==============================================================================\n",
            "\n",
            "\n"
          ],
          "name": "stdout"
        },
        {
          "output_type": "stream",
          "text": [
            "/usr/local/lib/python3.7/dist-packages/linearmodels/shared/exceptions.py:35: MissingValueWarning: \n",
            "Inputs contain missing values. Dropping rows with missing observations.\n",
            "  warnings.warn(missing_value_warning_msg, MissingValueWarning)\n"
          ],
          "name": "stderr"
        }
      ]
    },
    {
      "cell_type": "code",
      "metadata": {
        "colab": {
          "base_uri": "https://localhost:8080/"
        },
        "id": "PLRjgl6RaWN0",
        "outputId": "950851c2-153b-4382-aab0-2872df680b63"
      },
      "source": [
        "#Table 3, Column 3\n",
        "\n",
        "exog_vars = ['ln_commit', 'US_friend', 'inflation', 'LUS_friend_inf','per_exch', 'US_friend_per_exch', 'year2']\n",
        "#exog_vars = ['ln_commit', 'inflation', 'per_exch', 'year2']\n",
        "exog = sm.add_constant(df_paper[exog_vars])\n",
        "\n",
        "from linearmodels.panel import PanelOLS\n",
        "mod = PanelOLS(df_paper.ln_WB_tofg, exog)\n",
        "#, entity_effects=True , drop_absorbed=True\n",
        "\n",
        "#mod = PanelOLS(data.lwage, exog, entity_effects=True)\n",
        "fe_res = mod.fit()\n",
        "print(fe_res)"
      ],
      "execution_count": null,
      "outputs": [
        {
          "output_type": "stream",
          "text": [
            "                          PanelOLS Estimation Summary                           \n",
            "================================================================================\n",
            "Dep. Variable:             ln_WB_tofg   R-squared:                        0.8067\n",
            "Estimator:                   PanelOLS   R-squared (Between):             -0.3535\n",
            "No. Observations:                1097   R-squared (Within):               0.8174\n",
            "Date:                Thu, Feb 25 2021   R-squared (Overall):              0.8067\n",
            "Time:                        04:20:08   Log-likelihood                   -1035.6\n",
            "Cov. Estimator:            Unadjusted                                           \n",
            "                                        F-statistic:                      649.12\n",
            "Entities:                          22   P-value                           0.0000\n",
            "Avg Obs:                       49.864   Distribution:                  F(7,1089)\n",
            "Min Obs:                       23.000                                           \n",
            "Max Obs:                       61.000   F-statistic (robust):             649.12\n",
            "                                        P-value                           0.0000\n",
            "Time periods:                      97   Distribution:                  F(7,1089)\n",
            "Avg Obs:                       11.309                                           \n",
            "Min Obs:                       2.0000                                           \n",
            "Max Obs:                       22.000                                           \n",
            "                                                                                \n",
            "                                 Parameter Estimates                                  \n",
            "======================================================================================\n",
            "                    Parameter  Std. Err.     T-stat    P-value    Lower CI    Upper CI\n",
            "--------------------------------------------------------------------------------------\n",
            "const                 -14.797     6.4925    -2.2792     0.0228     -27.537     -2.0584\n",
            "ln_commit              0.9673     0.0146     66.474     0.0000      0.9388      0.9959\n",
            "US_friend              0.0022     0.0607     0.0365     0.9709     -0.1169      0.1213\n",
            "inflation             -0.3576     0.1955    -1.8292     0.0676     -0.7412      0.0260\n",
            "LUS_friend_inf         0.3463     0.1942     1.7835     0.0748     -0.0347      0.7273\n",
            "per_exch              -0.1172     0.0818    -1.4320     0.1524     -0.2777      0.0434\n",
            "US_friend_per_exch     0.1252     0.0824     1.5198     0.1289     -0.0364      0.2867\n",
            "year2                  0.0066     0.0032     2.0226     0.0434      0.0002      0.0129\n",
            "======================================================================================\n",
            "\n",
            "\n"
          ],
          "name": "stdout"
        },
        {
          "output_type": "stream",
          "text": [
            "/usr/local/lib/python3.7/dist-packages/linearmodels/shared/exceptions.py:35: MissingValueWarning: \n",
            "Inputs contain missing values. Dropping rows with missing observations.\n",
            "  warnings.warn(missing_value_warning_msg, MissingValueWarning)\n"
          ],
          "name": "stderr"
        }
      ]
    },
    {
      "cell_type": "code",
      "metadata": {
        "colab": {
          "base_uri": "https://localhost:8080/"
        },
        "id": "7TA1CtHq67Wn",
        "outputId": "c58542cc-3a89-4e16-d055-46f80616d3e9"
      },
      "source": [
        "def Interact (a, b):\n",
        "  return a*b\n",
        "\n",
        "df_paper ['Inf_USF']= Interact (df_paper.inflation, df_paper.US_friend)"
      ],
      "execution_count": null,
      "outputs": [
        {
          "output_type": "stream",
          "text": [
            "/usr/local/lib/python3.6/dist-packages/ipykernel_launcher.py:4: SettingWithCopyWarning: \n",
            "A value is trying to be set on a copy of a slice from a DataFrame.\n",
            "Try using .loc[row_indexer,col_indexer] = value instead\n",
            "\n",
            "See the caveats in the documentation: https://pandas.pydata.org/pandas-docs/stable/user_guide/indexing.html#returning-a-view-versus-a-copy\n",
            "  after removing the cwd from sys.path.\n"
          ],
          "name": "stderr"
        }
      ]
    },
    {
      "cell_type": "code",
      "metadata": {
        "colab": {
          "base_uri": "https://localhost:8080/",
          "height": 237
        },
        "id": "fsRejOMQK3ie",
        "outputId": "3b9525a1-e368-4156-ae79-22791dbf12db"
      },
      "source": [
        "df_paper.head()"
      ],
      "execution_count": null,
      "outputs": [
        {
          "output_type": "execute_result",
          "data": {
            "text/html": [
              "<div>\n",
              "<style scoped>\n",
              "    .dataframe tbody tr th:only-of-type {\n",
              "        vertical-align: middle;\n",
              "    }\n",
              "\n",
              "    .dataframe tbody tr th {\n",
              "        vertical-align: top;\n",
              "    }\n",
              "\n",
              "    .dataframe thead th {\n",
              "        text-align: right;\n",
              "    }\n",
              "</style>\n",
              "<table border=\"1\" class=\"dataframe\">\n",
              "  <thead>\n",
              "    <tr style=\"text-align: right;\">\n",
              "      <th></th>\n",
              "      <th></th>\n",
              "      <th>ln_WB_tofg</th>\n",
              "      <th>ln_commit</th>\n",
              "      <th>US_friend</th>\n",
              "      <th>inflation</th>\n",
              "      <th>per_exch</th>\n",
              "      <th>year2</th>\n",
              "      <th>Inf_USF</th>\n",
              "    </tr>\n",
              "    <tr>\n",
              "      <th>YEAR</th>\n",
              "      <th>IDNUM</th>\n",
              "      <th></th>\n",
              "      <th></th>\n",
              "      <th></th>\n",
              "      <th></th>\n",
              "      <th></th>\n",
              "      <th></th>\n",
              "      <th></th>\n",
              "    </tr>\n",
              "  </thead>\n",
              "  <tbody>\n",
              "    <tr>\n",
              "      <th>1994</th>\n",
              "      <th>2</th>\n",
              "      <td>3.779778</td>\n",
              "      <td>5.383770</td>\n",
              "      <td>1.0</td>\n",
              "      <td>0.225651</td>\n",
              "      <td>-0.072888</td>\n",
              "      <td>1994</td>\n",
              "      <td>0.225651</td>\n",
              "    </tr>\n",
              "    <tr>\n",
              "      <th>1995</th>\n",
              "      <th>2</th>\n",
              "      <td>3.973295</td>\n",
              "      <td>5.551557</td>\n",
              "      <td>1.0</td>\n",
              "      <td>0.077932</td>\n",
              "      <td>-0.020353</td>\n",
              "      <td>1995</td>\n",
              "      <td>0.077932</td>\n",
              "    </tr>\n",
              "    <tr>\n",
              "      <th>1996</th>\n",
              "      <th>2</th>\n",
              "      <td>3.660733</td>\n",
              "      <td>5.784458</td>\n",
              "      <td>1.0</td>\n",
              "      <td>0.127255</td>\n",
              "      <td>0.127311</td>\n",
              "      <td>1996</td>\n",
              "      <td>0.127255</td>\n",
              "    </tr>\n",
              "    <tr>\n",
              "      <th>1997</th>\n",
              "      <th>2</th>\n",
              "      <td>3.108865</td>\n",
              "      <td>5.726002</td>\n",
              "      <td>1.0</td>\n",
              "      <td>0.331803</td>\n",
              "      <td>0.425210</td>\n",
              "      <td>1997</td>\n",
              "      <td>0.331803</td>\n",
              "    </tr>\n",
              "    <tr>\n",
              "      <th>1998</th>\n",
              "      <th>2</th>\n",
              "      <td>4.297619</td>\n",
              "      <td>5.889020</td>\n",
              "      <td>1.0</td>\n",
              "      <td>0.206429</td>\n",
              "      <td>0.011417</td>\n",
              "      <td>1998</td>\n",
              "      <td>0.206429</td>\n",
              "    </tr>\n",
              "  </tbody>\n",
              "</table>\n",
              "</div>"
            ],
            "text/plain": [
              "            ln_WB_tofg  ln_commit  US_friend  ...  per_exch  year2   Inf_USF\n",
              "YEAR IDNUM                                    ...                           \n",
              "1994 2        3.779778   5.383770        1.0  ... -0.072888   1994  0.225651\n",
              "1995 2        3.973295   5.551557        1.0  ... -0.020353   1995  0.077932\n",
              "1996 2        3.660733   5.784458        1.0  ...  0.127311   1996  0.127255\n",
              "1997 2        3.108865   5.726002        1.0  ...  0.425210   1997  0.331803\n",
              "1998 2        4.297619   5.889020        1.0  ...  0.011417   1998  0.206429\n",
              "\n",
              "[5 rows x 7 columns]"
            ]
          },
          "metadata": {
            "tags": []
          },
          "execution_count": 39
        }
      ]
    },
    {
      "cell_type": "markdown",
      "metadata": {
        "id": "VLmfOslQHKoS"
      },
      "source": [
        "I will be defining the variables to create the histogram and scatter plot : \n"
      ]
    },
    {
      "cell_type": "code",
      "metadata": {
        "id": "F5tRQEtjHUZB"
      },
      "source": [
        "x = df.ln_pop\n",
        "y = df.WB\n",
        "z = df.ln_gdp\n",
        "#a = df.YEAR\n",
        "#b = df.IDNUM\n",
        "#c = df.yhat_ols"
      ],
      "execution_count": null,
      "outputs": []
    },
    {
      "cell_type": "markdown",
      "metadata": {
        "id": "Pnpgm4lqHeZr"
      },
      "source": [
        "Histogram of ln_pop\n",
        "\n"
      ]
    },
    {
      "cell_type": "code",
      "metadata": {
        "colab": {
          "base_uri": "https://localhost:8080/",
          "height": 296
        },
        "id": "DD7AplXfR03V",
        "outputId": "2d7295e7-c17b-437f-cf49-29ed188c632b"
      },
      "source": [
        "plt.hist((x))\n",
        "plt.title('Histogram of variable ln_pop ')\n",
        "plt.xlabel('ln_pop')\n",
        "plt.ylabel('Frequency')\n",
        "plt.show()\n"
      ],
      "execution_count": null,
      "outputs": [
        {
          "output_type": "display_data",
          "data": {
            "image/png": "[encoded data removed]",
            "text/plain": [
              "<Figure size 432x288 with 1 Axes>"
            ]
          },
          "metadata": {
            "tags": [],
            "needs_background": "light"
          }
        }
      ]
    },
    {
      "cell_type": "markdown",
      "metadata": {
        "id": "b1x1yN5eW3rO"
      },
      "source": [
        "Histogram of WB"
      ]
    },
    {
      "cell_type": "code",
      "metadata": {
        "colab": {
          "base_uri": "https://localhost:8080/",
          "height": 296
        },
        "id": "e1IAdCdmR01L",
        "outputId": "29f2e273-8934-4f19-a7c9-19b42ba6ca1c"
      },
      "source": [
        "plt.hist((y))\n",
        "plt.title('Histogram of variable WB ')\n",
        "plt.xlabel('WB')\n",
        "plt.ylabel('Frequency')\n",
        "plt.show()"
      ],
      "execution_count": null,
      "outputs": [
        {
          "output_type": "display_data",
          "data": {
            "image/png": "[encoded data removed]",
            "text/plain": [
              "<Figure size 432x288 with 1 Axes>"
            ]
          },
          "metadata": {
            "tags": [],
            "needs_background": "light"
          }
        }
      ]
    },
    {
      "cell_type": "markdown",
      "metadata": {
        "id": "vVustlGaW8WT"
      },
      "source": [
        "Histogram of ln_gdp"
      ]
    },
    {
      "cell_type": "code",
      "metadata": {
        "colab": {
          "base_uri": "https://localhost:8080/",
          "height": 296
        },
        "id": "LzLu8BvoVkUU",
        "outputId": "e095bb6b-66ce-450b-97e8-b225a105c9e7"
      },
      "source": [
        "plt.hist((z))\n",
        "plt.title('Histogram of variable ln_gdp ')\n",
        "plt.xlabel('ln_gdp')\n",
        "plt.ylabel('Frequency')\n",
        "plt.show()"
      ],
      "execution_count": null,
      "outputs": [
        {
          "output_type": "display_data",
          "data": {
            "image/png": "[encoded data removed]",
            "text/plain": [
              "<Figure size 432x288 with 1 Axes>"
            ]
          },
          "metadata": {
            "tags": [],
            "needs_background": "light"
          }
        }
      ]
    },
    {
      "cell_type": "markdown",
      "metadata": {
        "id": "fR81f0TyIZzt"
      },
      "source": [
        "Scatter Plot between ln-Pop & WB :\n",
        "\n"
      ]
    },
    {
      "cell_type": "code",
      "metadata": {
        "colab": {
          "base_uri": "https://localhost:8080/",
          "height": 295
        },
        "id": "cgb7u3pqIWoJ",
        "outputId": "f01ada6b-0d25-4efc-f2e0-3378644c962f"
      },
      "source": [
        "plt.scatter(x,y)\n",
        "plt.title('Scatter Plot between ln-Pop & WB ')\n",
        "plt.xlabel('ln-Pop')\n",
        "plt.ylabel('WB')\n",
        "plt.show()"
      ],
      "execution_count": null,
      "outputs": [
        {
          "output_type": "display_data",
          "data": {
            "image/png": "[encoded data removed]",
            "text/plain": [
              "<Figure size 432x288 with 1 Axes>"
            ]
          },
          "metadata": {
            "tags": [],
            "needs_background": "light"
          }
        }
      ]
    },
    {
      "cell_type": "markdown",
      "metadata": {
        "id": "KmKgrkzUXBc5"
      },
      "source": [
        "Scatter Plot between ln_pop & ln_gdp"
      ]
    },
    {
      "cell_type": "code",
      "metadata": {
        "colab": {
          "base_uri": "https://localhost:8080/",
          "height": 295
        },
        "id": "9N_3gWzEXOJq",
        "outputId": "3732e4db-bb59-4885-e01b-4dcf43811f51"
      },
      "source": [
        "plt.scatter(x,z, marker = \".\")\n",
        "plt.title('Scatter Plot between ln-Pop & ln_gdp ')\n",
        "plt.xlabel('ln-Pop')\n",
        "plt.ylabel('ln_gdp')\n",
        "plt.show()"
      ],
      "execution_count": null,
      "outputs": [
        {
          "output_type": "display_data",
          "data": {
            "image/png": "[encoded data removed]",
            "text/plain": [
              "<Figure size 432x288 with 1 Axes>"
            ]
          },
          "metadata": {
            "tags": [],
            "needs_background": "light"
          }
        }
      ]
    }
  ]
}